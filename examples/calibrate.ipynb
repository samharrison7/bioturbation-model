{
 "cells": [
  {
   "cell_type": "markdown",
   "metadata": {},
   "source": [
    "# Bioturbation model - calibration using observed data\n",
    "\n",
    "The bioturbation model relies on an empirical parameter $\\beta$, which you may wish to calibrate based on observed data. This notebook shows how you might go about doing that, based on data from this published paper: [Baccaro M, Harrison S, et al 2019](https://doi.org/10.1016/j.envpol.2019.05.106). In this paper, we studied the importance of bioturbation in transporting Ag<sub>2</sub>S nanoparticles (NPs). Full details of this example can be found in the paper.\n",
    "\n",
    "Say you have the data in [example_data.csv](./example_data.csv), which gives observed concentrations at 7, 14, 21 and 28 days in three soil layers (top, middle, bottom):"
   ]
  },
  {
   "cell_type": "code",
   "execution_count": 1,
   "metadata": {},
   "outputs": [
    {
     "data": {
      "text/html": [
       "<div>\n",
       "<style scoped>\n",
       "    .dataframe tbody tr th:only-of-type {\n",
       "        vertical-align: middle;\n",
       "    }\n",
       "\n",
       "    .dataframe tbody tr th {\n",
       "        vertical-align: top;\n",
       "    }\n",
       "\n",
       "    .dataframe thead th {\n",
       "        text-align: right;\n",
       "    }\n",
       "</style>\n",
       "<table border=\"1\" class=\"dataframe\">\n",
       "  <thead>\n",
       "    <tr style=\"text-align: right;\">\n",
       "      <th></th>\n",
       "      <th>day</th>\n",
       "      <th>layer</th>\n",
       "      <th>conc</th>\n",
       "    </tr>\n",
       "  </thead>\n",
       "  <tbody>\n",
       "    <tr>\n",
       "      <th>0</th>\n",
       "      <td>0</td>\n",
       "      <td>top</td>\n",
       "      <td>6.625667</td>\n",
       "    </tr>\n",
       "    <tr>\n",
       "      <th>1</th>\n",
       "      <td>0</td>\n",
       "      <td>middle</td>\n",
       "      <td>0.000000</td>\n",
       "    </tr>\n",
       "    <tr>\n",
       "      <th>2</th>\n",
       "      <td>0</td>\n",
       "      <td>bottom</td>\n",
       "      <td>0.000000</td>\n",
       "    </tr>\n",
       "    <tr>\n",
       "      <th>3</th>\n",
       "      <td>7</td>\n",
       "      <td>top</td>\n",
       "      <td>5.184575</td>\n",
       "    </tr>\n",
       "    <tr>\n",
       "      <th>4</th>\n",
       "      <td>7</td>\n",
       "      <td>middle</td>\n",
       "      <td>0.569111</td>\n",
       "    </tr>\n",
       "    <tr>\n",
       "      <th>5</th>\n",
       "      <td>7</td>\n",
       "      <td>bottom</td>\n",
       "      <td>0.193135</td>\n",
       "    </tr>\n",
       "    <tr>\n",
       "      <th>6</th>\n",
       "      <td>14</td>\n",
       "      <td>top</td>\n",
       "      <td>2.737534</td>\n",
       "    </tr>\n",
       "    <tr>\n",
       "      <th>7</th>\n",
       "      <td>14</td>\n",
       "      <td>middle</td>\n",
       "      <td>0.657221</td>\n",
       "    </tr>\n",
       "    <tr>\n",
       "      <th>8</th>\n",
       "      <td>14</td>\n",
       "      <td>bottom</td>\n",
       "      <td>0.231144</td>\n",
       "    </tr>\n",
       "    <tr>\n",
       "      <th>9</th>\n",
       "      <td>21</td>\n",
       "      <td>top</td>\n",
       "      <td>3.259800</td>\n",
       "    </tr>\n",
       "    <tr>\n",
       "      <th>10</th>\n",
       "      <td>21</td>\n",
       "      <td>middle</td>\n",
       "      <td>0.477884</td>\n",
       "    </tr>\n",
       "    <tr>\n",
       "      <th>11</th>\n",
       "      <td>21</td>\n",
       "      <td>bottom</td>\n",
       "      <td>0.465643</td>\n",
       "    </tr>\n",
       "    <tr>\n",
       "      <th>12</th>\n",
       "      <td>28</td>\n",
       "      <td>top</td>\n",
       "      <td>3.308127</td>\n",
       "    </tr>\n",
       "    <tr>\n",
       "      <th>13</th>\n",
       "      <td>28</td>\n",
       "      <td>middle</td>\n",
       "      <td>0.812801</td>\n",
       "    </tr>\n",
       "    <tr>\n",
       "      <th>14</th>\n",
       "      <td>28</td>\n",
       "      <td>bottom</td>\n",
       "      <td>0.626282</td>\n",
       "    </tr>\n",
       "  </tbody>\n",
       "</table>\n",
       "</div>"
      ],
      "text/plain": [
       "    day   layer      conc\n",
       "0     0     top  6.625667\n",
       "1     0  middle  0.000000\n",
       "2     0  bottom  0.000000\n",
       "3     7     top  5.184575\n",
       "4     7  middle  0.569111\n",
       "5     7  bottom  0.193135\n",
       "6    14     top  2.737534\n",
       "7    14  middle  0.657221\n",
       "8    14  bottom  0.231144\n",
       "9    21     top  3.259800\n",
       "10   21  middle  0.477884\n",
       "11   21  bottom  0.465643\n",
       "12   28     top  3.308127\n",
       "13   28  middle  0.812801\n",
       "14   28  bottom  0.626282"
      ]
     },
     "execution_count": 1,
     "metadata": {},
     "output_type": "execute_result"
    }
   ],
   "source": [
    "import pandas as pd\n",
    "\n",
    "df = pd.read_csv('./example_data.csv')\n",
    "df"
   ]
  },
  {
   "cell_type": "markdown",
   "metadata": {},
   "source": [
    "This corresponds to an experimental setup as per the following figure. The three layers where the soil is sample are denoted top, middle and bottom, each of which is 2cm deep. For modelling simplicitly, we conceptualise the soil profile as being six 2-cm layers. 10 mg/kg of Ag<sub>2</sub>S-NPs were added to the top soil layer at day 0.\n",
    "\n",
    "![Soil profile conceptualisation](../img/calibration-profile.png)"
   ]
  },
  {
   "cell_type": "markdown",
   "metadata": {},
   "source": [
    "### Creating an optimisable function\n",
    "\n",
    "We will use SciPy's `leastsq` function to do the optimisation (i.e. finding the $\\beta$ value that best fits the data). To do this, we need to create a cost function to pass to the `leastsq` method. To fit multiple layers at once, we flatten all the layers into one array with a length of number of time steps multiplied by the number of layers."
   ]
  },
  {
   "cell_type": "code",
   "execution_count": 4,
   "metadata": {},
   "outputs": [],
   "source": [
    "import bioturbation.model as biom\n",
    "import numpy as np\n",
    "\n",
    "def f(params, *args):\n",
    "    \"\"\"Function to pass to SciPy to optimise\"\"\"\n",
    "    # Get the beta calibration parameter\n",
    "    beta = params[0]\n",
    "    # x is the time axis, y is the experimental data, both flattened into a 1D array\n",
    "    x, y = args[0], args[1]\n",
    "    # Where to slice the x, y arrays to get individual layers\n",
    "    n1, n2 = args[2]\n",
    "    # Initial concentration (top layer only)\n",
    "    yinit = args[3]\n",
    "    # Config to pass to the bioturbation model\n",
    "    config = {\n",
    "        'n_soil_layers': 6,\n",
    "        'soil_layer_depth': 0.02,                           # m\n",
    "        'initial_conc': np.array([yinit, 0, 0, 0, 0, 0]),   # mg/kg dry weight\n",
    "        'earthworm_density': np.full((6,), 9431.0),         # worms/m3\n",
    "        'beta': beta\n",
    "    }\n",
    "    # Run the bioturbation model\n",
    "    data = biom.run(**config) \n",
    "    # Create empty array for the modelled data and populate\n",
    "    yfit = np.empty(len(x))\n",
    "    yfit[:n1] = data[0]         # Top layer\n",
    "    yfit[n1:n2] = data[3]       # Middle layer\n",
    "    yfit[n2:] = data[5]         # Bottom layer\n",
    "    # Return the cost as simply the difference between the modelled and observed\n",
    "    return y - yfit"
   ]
  },
  {
   "cell_type": "markdown",
   "metadata": {},
   "source": [
    "### Parsing the experimental data\n",
    "\n",
    "Now let's parse the experimental data imported above into a format that can be used by the model."
   ]
  },
  {
   "cell_type": "code",
   "execution_count": 6,
   "metadata": {},
   "outputs": [],
   "source": [
    "y_obs = np.empty((15,))         # Length of 5 time steps * 3 layers\n",
    "y_obs[:5] = df[df['layer'] == 'top']['conc'].values\n",
    "y_obs[5:10] = df[df['layer'] == 'middle']['conc'].values\n",
    "y_obs[10:] = df[df['layer'] == 'bottom']['conc'].values\n",
    "x_obs = np.array([0, 7, 14, 21, 28] * 3)"
   ]
  },
  {
   "cell_type": "markdown",
   "metadata": {},
   "source": [
    "### Fitting the data\n",
    "\n",
    "Now we can pass these data to SciPy, via the function we defined above, to do the fitting."
   ]
  },
  {
   "cell_type": "code",
   "execution_count": null,
   "metadata": {},
   "outputs": [],
   "source": [
    "# Initial guess at beta\n",
    "params0 = np.array(1e-12)\n",
    "# Obs data\n",
    "args = (x_obs, y_obs, (5, 10), y_obs[0])\n",
    "# Run the optimisation\n",
    "results, cov, info, mesg, ier = leastsq(f, params0, args=args, full_output=True)\n",
    "beta_optimised = result[0]\n",
    "print(f'Optimised beta: {beta_optimised}')\n",
    "\n",
    "# Get the R^2 value of the fit\n",
    "ss_err = (info['fvec']**2).sum()\n",
    "ss_tot = ((y_obs - y_obs.mean())**2).sum()\n",
    "r_squared = 1-(ss_err/ss_tot)\n",
    "print(\"R-squared of model fit: {0}\".format(r_squared))"
   ]
  }
 ],
 "metadata": {
  "interpreter": {
   "hash": "7a77d8d008a95d23d97f94c108717f7d7010131c9e98f6abd844c4d61ad78e4c"
  },
  "kernelspec": {
   "display_name": "Python 3.10.2 ('bioturbation')",
   "language": "python",
   "name": "python3"
  },
  "language_info": {
   "codemirror_mode": {
    "name": "ipython",
    "version": 3
   },
   "file_extension": ".py",
   "mimetype": "text/x-python",
   "name": "python",
   "nbconvert_exporter": "python",
   "pygments_lexer": "ipython3",
   "version": "3.10.2"
  },
  "orig_nbformat": 4
 },
 "nbformat": 4,
 "nbformat_minor": 2
}
