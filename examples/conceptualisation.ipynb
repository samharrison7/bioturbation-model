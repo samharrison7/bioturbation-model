{
 "cells": [
  {
   "cell_type": "markdown",
   "metadata": {},
   "source": [
    "# Bioturbation model conceptualisation\n",
    "\n",
    "The bioturbation model predicts how earthworm bioturbation effects concentration of a contaminant in a layered soil model, where a certain depth of each layer is mixed with the depth of the neighboroughing layer(s) on each time step. The depth to mix is a function of earthworm density in the layer. For more details, see [Baccaro M, Harrison S, et al 2019](https://doi.org/10.1016/j.envpol.2019.05.106).\n",
    "\n",
    "The soil profile is split into a number $L$ of soil layers, each with a depth $d_l$ [m] (where $l \\in \\{ 1, ..., L \\}$) and concentration of contaminant $\\text{[A]}_l$ [kg/m<sup>3</sup>]. Each pair of layers has a so-called \"bioturbation rate\" $k_{\\text{bioturb},l:l+1}$ [s<sup>-1</sup>], which we define as:\n",
    "\n",
    "$$\n",
    "    k_{\\text{bioturb},l:l+1} = \\frac{m_{l:l+1}}{d_l}\n",
    "$$\n",
    "\n",
    "where $m_{l:l+1}$ [m/s] is the depth of each layer ($l$ and $l+1$) that is mixed each second due to bioturbation. Thus, for a time step of length $\\delta t$, $m_{l:l+1} \\delta t$ is mixed between the layers on each time step. $m_{l:l+1}$ itself might be a function of earthworm density, amongst other things.\n",
    "\n",
    "![Conceptual model of the soil profile. $m_{l:l+1}\\delta t$ is the depth of each layer to be mixed due to bioturbation on each time step of length $\\delta t$.](../img/conceptual-model.png)\n",
    "\n",
    "If we assume that, on each model time step $t$, $m_{l:l+1} \\delta t$ is instantaneously mixed between the layers $l$ and $l+1$, then the concentration of contaminant in layer $l$ on the time step $t+1$ is given by:\n",
    "\n",
    "$$\n",
    "    \\text{[A]}_{l,t+1} = \\text{[A]}_{l,t} + k_{\\text{bioturb},l:l+1} \\delta t \\left( \\text{[A]}_{l+1,t} - \\text{[A]}_{l,t} \\right) + k_{\\text{bioturb},l-1:l} \\delta t \\left( \\text{[A]}_{l-1,t} - \\text{[A]}_{l,t} \\right)\n",
    "$$\n",
    "\n",
    "Here, the term with factor $k_{\\text{bioturb},l:l+1}$ represents mixing to the layer *below* the current layer $l$, whilst the term with factor $k_{\\text{bioturb},l-1:l}$ represents mixing to the layer *above* the current layer.\n",
    "\n",
    "In the model, we define a linear relationship between $m_{l:l+1}$ and each layer's earthworm density $w_l$ [worms/m<sup>3</sup>]:\n",
    "\n",
    "$$\n",
    "    m_{l:l+1} = \\beta w_l\n",
    "$$\n",
    "\n",
    "where $\\beta$ [m<sup>4</sup> s<sup>-1</sup>] is the so-called bioturbation calibration parameter, which is usually calibrated using experimental data (see [calibrate.ipynb](./calibrate.ipynb))."
   ]
  }
 ],
 "metadata": {
  "kernelspec": {
   "display_name": "Python 3",
   "language": "python",
   "name": "python3"
  },
  "language_info": {
   "codemirror_mode": {
    "name": "ipython",
    "version": 3
   },
   "file_extension": ".py",
   "mimetype": "text/x-python",
   "name": "python",
   "nbconvert_exporter": "python",
   "pygments_lexer": "ipython3",
   "version": "3.10.2"
  }
 },
 "nbformat": 4,
 "nbformat_minor": 2
}
