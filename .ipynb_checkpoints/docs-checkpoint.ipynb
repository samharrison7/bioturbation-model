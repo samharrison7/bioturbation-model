{
 "cells": [
  {
   "cell_type": "markdown",
   "metadata": {},
   "source": [
    "# Bioturbation example\n",
    "\n",
    "This is a very simple script to demonstrate modelling of how bioturbation effects concentration of a substance in a layered soil model, where a certain depth of each layer is mixed with the depth of the neighboroughing layer(s) on each time step. The depth to mix is a function of earthworm density in the layer.\n",
    "\n",
    "## Conceptual model\n",
    "\n",
    "The soil profile is split into a number $L$ of soil layers, each with a depth $d_l$ [m] (where $l \\in \\{ 1, ..., L \\}$) and concentration of substance $\\text{[A]}_l$ [kg/m<sup>3</sup>]. Each pair of layers has a so-called \"bioturbation rate\" $k_{\\text{bioturb},l:l+1} [s<sup>-1</sup>], which we define as:\n",
    "\n",
    "$$\n",
    "    k_{\\text{bioturb},l:l+1} = \\frac{m_{l:l+1}}{d_l}\n",
    "$$\n",
    "\n",
    "where $m_{l:l+1}$ [m/s] is the depth of each layer ($l$ and $l+1$) that is mixed each second due to bioturbation. Thus, for a time step of length $\\delta t$, $\\delta t m_{l:l+1}$ is mixed between the layers on each time step. $m_{l:l+1}$ itself might be a function of earthworm density, amongst other things.\n",
    "\n",
    "![Conceptual model of the soil profile. $m_{l:l+1}\\delta t$ is the depth of each layer to be mixed due to bioturbation on each time step of length $\\delta t$.](img/conceptual-model.png)\n",
    "\n",
    "If we assume that, on each model time step $t$, $m_{l:l+1} \\delta t$ is instantaneously mixed between the layers $l$ and $l+1$, then the concentration of substance in layer $l$ on the time step $t+1$ is given by:\n",
    "\n",
    "$$\n",
    "    \\text{[A]}_{l,t+1} = \\text{[A]}_{l,t} + k_{\\text{bioturb},l:l+1} \\delta t \\left( \\text{[A]}_{l+1,t} - \\text{[A]}_{l,t} \\right)\n",
    "$$\n",
    "\n",
    "For this demonstration, we define an arbitrary linear relationship between $m_{l:l+1} \\delta t$ and $w$. In reality, this will be informed by data.\n",
    "\n",
    "$$\n",
    "    m_{l:l+1} \\delta t = 0.001 w_l\n",
    "$$\n",
    "\n",
    "## Code\n",
    "\n",
    "We can separate classes to represent the soil profile (`SoilProfile`) and each soil layer (`SoilLayer`). "
   ]
  },
  {
   "cell_type": "code",
   "execution_count": null,
   "metadata": {},
   "outputs": [],
   "source": [
    "class SoilLayer:\n",
    "\n",
    "    def __init__(self, depth, initial_conc, earthworm_density):\n",
    "        self.depth = depth\n",
    "        self.conc = initial_conc\n",
    "        self.earthworm_density = earthworm_density\n",
    "\n",
    "    def get_depth_to_mix(self):\n",
    "        '''Calculate the depth of this soil layer to mix'''\n",
    "        depth_to_mix = self.earthworm_density * 0.001\n",
    "        return depth_to_mix\n",
    "\n",
    "\n",
    "class SoilProfile:\n",
    "\n",
    "    def __init__(self, n_soil_layers, soil_layer_depth, initial_conc, earthworm_density):\n",
    "        # Create the soil layers in this profile\n",
    "        self.soil_layers = []\n",
    "        for i in range(0, n_soil_layers):\n",
    "            self.soil_layers.append(SoilLayer(soil_layer_depth[i],\n",
    "                                              initial_conc[i],\n",
    "                                              earthworm_density[i]))\n",
    "\n",
    "    def bioturbation(self):\n",
    "        for layer in self.soil_layers:\n",
    "            fraction_of_layer_to_mix = layer.get_depth_to_mix() / layer.depth\n",
    "            print(fraction_of_layer_to_mix)\n"
   ]
  }
 ],
 "metadata": {
  "kernelspec": {
   "display_name": "Python 3",
   "language": "python",
   "name": "python3"
  },
  "language_info": {
   "codemirror_mode": {
    "name": "ipython",
    "version": 3
   },
   "file_extension": ".py",
   "mimetype": "text/x-python",
   "name": "python",
   "nbconvert_exporter": "python",
   "pygments_lexer": "ipython3",
   "version": "3.6.3"
  }
 },
 "nbformat": 4,
 "nbformat_minor": 2
}
